{
 "cells": [
  {
   "cell_type": "markdown",
   "metadata": {},
   "source": [
    "listener and voice recognition"
   ]
  },
  {
   "cell_type": "code",
   "execution_count": null,
   "metadata": {},
   "outputs": [],
   "source": [
    "import speech_recognition as sr\n",
    "import pyttsx3\n",
    "\n",
    "def speak(text):\n",
    "    engine = pyttsx3.init()\n",
    "    engine.say(text)\n",
    "    engine.runAndWait()\n",
    "    \n"
   ]
  },
  {
   "cell_type": "markdown",
   "metadata": {},
   "source": [
    "listener"
   ]
  },
  {
   "cell_type": "code",
   "execution_count": null,
   "metadata": {},
   "outputs": [],
   "source": [
    "def listen ():\n",
    "    recognizer = sr.Recognizer()\n",
    "    with sr.Microphone() as source:\n",
    "        print(\"listening....\")\n",
    "        audio - recognizer.listen(source)\n",
    "        try:\n",
    "            command = recognizer.recognize_google(audio)\n",
    "            print(f'you said: {command}')\n",
    "            return command.lower()\n",
    "        except sr.UnknownValueError:\n",
    "            speak(\"sorry, i didn't understand that\")\n",
    "            return None\n"
   ]
  },
  {
   "cell_type": "markdown",
   "metadata": {},
   "source": [
    "Example usage"
   ]
  },
  {
   "cell_type": "code",
   "execution_count": null,
   "metadata": {},
   "outputs": [],
   "source": [
    "speak('Hello! what can i do for you today')\n",
    "command = listen()\n"
   ]
  },
  {
   "cell_type": "markdown",
   "metadata": {},
   "source": [
    "using openAI responses"
   ]
  },
  {
   "cell_type": "code",
   "execution_count": null,
   "metadata": {},
   "outputs": [],
   "source": [
    "#set openAI key\n",
    "import openai\n",
    "from openai import OpenAI\n",
    "client = OpenAI(api_key = 'enter openAI key')\n",
    "\n",
    "def ai_response(query):\n",
    "    response = openai.completions.create(\n",
    "        model = 'gpt-3.5-turbo',\n",
    "        messages = [\n",
    "            {'role': 'user', 'content': query }\n",
    "        ]\n",
    "    )\n",
    "    return response.choices[0].message.content\n"
   ]
  }
 ],
 "metadata": {
  "kernelspec": {
   "display_name": "Python 3",
   "language": "python",
   "name": "python3"
  },
  "language_info": {
   "name": "python",
   "version": "3.13.0"
  }
 },
 "nbformat": 4,
 "nbformat_minor": 2
}
